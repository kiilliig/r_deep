{
 "cells": [
  {
   "cell_type": "markdown",
   "metadata": {},
   "source": [
    "### Q2. 숫자형 변수로만 구성된 자료(데이터프레임)과 행번호 i와 j 두 값을 입력하면, 해당 데이터프레임의 i행 자료와 j행 자료에 대한 유클리드 거리, 표준화 거리, 마할라노비스 거리를 계산해주는 함수 MultiDist를 만든 뒤, cork 자료의 1행과 2행에 대한 세 종류의 거리를 아래와 같이 도출하여라. 단, 거리 계산을 위한 R의 내장함수(dist, mahalanobis 등)을 이용하지 말고, 자료로부터 직접 계산하도록 코드를 작성해 볼 것."
   ]
  },
  {
   "cell_type": "code",
   "execution_count": 4,
   "metadata": {},
   "outputs": [],
   "source": [
    " #install.packages(\"Flury\")\n",
    "library(Flury)"
   ]
  },
  {
   "cell_type": "code",
   "execution_count": 14,
   "metadata": {},
   "outputs": [
    {
     "data": {
      "text/html": [
       "<table>\n",
       "<thead><tr><th scope=col>North</th><th scope=col>East</th><th scope=col>South</th><th scope=col>West</th></tr></thead>\n",
       "<tbody>\n",
       "\t<tr><td>72</td><td>66</td><td>76</td><td>77</td></tr>\n",
       "\t<tr><td>60</td><td>53</td><td>66</td><td>63</td></tr>\n",
       "\t<tr><td>56</td><td>57</td><td>64</td><td>58</td></tr>\n",
       "\t<tr><td>41</td><td>29</td><td>36</td><td>38</td></tr>\n",
       "\t<tr><td>32</td><td>32</td><td>35</td><td>36</td></tr>\n",
       "\t<tr><td>30</td><td>35</td><td>34</td><td>26</td></tr>\n",
       "</tbody>\n",
       "</table>\n"
      ],
      "text/latex": [
       "\\begin{tabular}{r|llll}\n",
       " North & East & South & West\\\\\n",
       "\\hline\n",
       "\t 72 & 66 & 76 & 77\\\\\n",
       "\t 60 & 53 & 66 & 63\\\\\n",
       "\t 56 & 57 & 64 & 58\\\\\n",
       "\t 41 & 29 & 36 & 38\\\\\n",
       "\t 32 & 32 & 35 & 36\\\\\n",
       "\t 30 & 35 & 34 & 26\\\\\n",
       "\\end{tabular}\n"
      ],
      "text/markdown": [
       "\n",
       "North | East | South | West | \n",
       "|---|---|---|---|---|---|\n",
       "| 72 | 66 | 76 | 77 | \n",
       "| 60 | 53 | 66 | 63 | \n",
       "| 56 | 57 | 64 | 58 | \n",
       "| 41 | 29 | 36 | 38 | \n",
       "| 32 | 32 | 35 | 36 | \n",
       "| 30 | 35 | 34 | 26 | \n",
       "\n",
       "\n"
      ],
      "text/plain": [
       "  North East South West\n",
       "1 72    66   76    77  \n",
       "2 60    53   66    63  \n",
       "3 56    57   64    58  \n",
       "4 41    29   36    38  \n",
       "5 32    32   35    36  \n",
       "6 30    35   34    26  "
      ]
     },
     "metadata": {},
     "output_type": "display_data"
    },
    {
     "data": {
      "text/html": [
       "'data.frame'"
      ],
      "text/latex": [
       "'data.frame'"
      ],
      "text/markdown": [
       "'data.frame'"
      ],
      "text/plain": [
       "[1] \"data.frame\""
      ]
     },
     "metadata": {},
     "output_type": "display_data"
    }
   ],
   "source": [
    "data(cork)\n",
    "head(cork) ; class(cork)\n",
    "cork.m <- as.matrix(cork)"
   ]
  },
  {
   "cell_type": "markdown",
   "metadata": {},
   "source": [
    "#### sample"
   ]
  },
  {
   "cell_type": "code",
   "execution_count": 55,
   "metadata": {},
   "outputs": [
    {
     "data": {
      "text/html": [
       "24.6779253585061"
      ],
      "text/latex": [
       "24.6779253585061"
      ],
      "text/markdown": [
       "24.6779253585061"
      ],
      "text/plain": [
       "[1] 24.67793"
      ]
     },
     "metadata": {},
     "output_type": "display_data"
    }
   ],
   "source": [
    "# 유클리드 거리\n",
    "\n",
    "uclid.dist=0\n",
    "for(j in 1:ncol(cork.m)){\n",
    "    uclid.dist = uclid.dist + (cork.m[1,j]-cork.m[2,j])^2\n",
    "}\n",
    "sqrt(uclid.dist)\n"
   ]
  },
  {
   "cell_type": "code",
   "execution_count": 67,
   "metadata": {},
   "outputs": [
    {
     "data": {
      "text/html": [
       "<table>\n",
       "<thead><tr><th></th><th scope=col>North</th><th scope=col>East</th><th scope=col>South</th><th scope=col>West</th></tr></thead>\n",
       "<tbody>\n",
       "\t<tr><th scope=row>North</th><td>290.4061</td><td>223.7526</td><td>288.4378</td><td>226.2712</td></tr>\n",
       "\t<tr><th scope=row>East</th><td>223.7526</td><td>219.9299</td><td>229.0595</td><td>171.3743</td></tr>\n",
       "\t<tr><th scope=row>South</th><td>288.4378</td><td>229.0595</td><td>350.0040</td><td>259.5410</td></tr>\n",
       "\t<tr><th scope=row>West</th><td>226.2712</td><td>171.3743</td><td>259.5410</td><td>226.0040</td></tr>\n",
       "</tbody>\n",
       "</table>\n"
      ],
      "text/latex": [
       "\\begin{tabular}{r|llll}\n",
       "  & North & East & South & West\\\\\n",
       "\\hline\n",
       "\tNorth & 290.4061 & 223.7526 & 288.4378 & 226.2712\\\\\n",
       "\tEast & 223.7526 & 219.9299 & 229.0595 & 171.3743\\\\\n",
       "\tSouth & 288.4378 & 229.0595 & 350.0040 & 259.5410\\\\\n",
       "\tWest & 226.2712 & 171.3743 & 259.5410 & 226.0040\\\\\n",
       "\\end{tabular}\n"
      ],
      "text/markdown": [
       "\n",
       "| <!--/--> | North | East | South | West | \n",
       "|---|---|---|---|\n",
       "| North | 290.4061 | 223.7526 | 288.4378 | 226.2712 | \n",
       "| East | 223.7526 | 219.9299 | 229.0595 | 171.3743 | \n",
       "| South | 288.4378 | 229.0595 | 350.0040 | 259.5410 | \n",
       "| West | 226.2712 | 171.3743 | 259.5410 | 226.0040 | \n",
       "\n",
       "\n"
      ],
      "text/plain": [
       "      North    East     South    West    \n",
       "North 290.4061 223.7526 288.4378 226.2712\n",
       "East  223.7526 219.9299 229.0595 171.3743\n",
       "South 288.4378 229.0595 350.0040 259.5410\n",
       "West  226.2712 171.3743 259.5410 226.0040"
      ]
     },
     "metadata": {},
     "output_type": "display_data"
    },
    {
     "data": {
      "text/html": [
       "<table>\n",
       "<tbody>\n",
       "\t<tr><td>1.487651</td></tr>\n",
       "</tbody>\n",
       "</table>\n"
      ],
      "text/latex": [
       "\\begin{tabular}{l}\n",
       "\t 1.487651\\\\\n",
       "\\end{tabular}\n"
      ],
      "text/markdown": [
       "\n",
       "| 1.487651 | \n",
       "\n",
       "\n"
      ],
      "text/plain": [
       "     [,1]    \n",
       "[1,] 1.487651"
      ]
     },
     "metadata": {},
     "output_type": "display_data"
    }
   ],
   "source": [
    "# 마할라노비스 거리\n",
    "cv <- cov(cork.m); cv\n",
    "\n",
    "a <- cork.m[1,] - cork.m[2,]\n",
    "sqrt(t(a)%*%solve(cv)%*%a)"
   ]
  },
  {
   "cell_type": "code",
   "execution_count": 81,
   "metadata": {},
   "outputs": [
    {
     "data": {
      "text/html": [
       "<table>\n",
       "<tbody>\n",
       "\t<tr><td>1.554746</td></tr>\n",
       "</tbody>\n",
       "</table>\n"
      ],
      "text/latex": [
       "\\begin{tabular}{l}\n",
       "\t 1.554746\\\\\n",
       "\\end{tabular}\n"
      ],
      "text/markdown": [
       "\n",
       "| 1.554746 | \n",
       "\n",
       "\n"
      ],
      "text/plain": [
       "     [,1]    \n",
       "[1,] 1.554746"
      ]
     },
     "metadata": {},
     "output_type": "display_data"
    }
   ],
   "source": [
    "# 표준화거리\n",
    "b<-t(a)%*%solve(diag(diag(cv)))%*%a\n",
    "sqrt(b)"
   ]
  },
  {
   "cell_type": "markdown",
   "metadata": {},
   "source": [
    "#### method"
   ]
  },
  {
   "cell_type": "code",
   "execution_count": 85,
   "metadata": {},
   "outputs": [],
   "source": [
    "MultiDist <- function( df, i=1, j=2){\n",
    "    \n",
    "    df  <- as.matrix(df)\n",
    "    \n",
    "    ## UclidDist\n",
    "    \n",
    "    a=0\n",
    "    for(k in 1:ncol(df)){\n",
    "        a = a + (df[i,k]-df[j,k])^2\n",
    "    }\n",
    "    uclid.dist <- sqrt(a)\n",
    "\n",
    "    ## Mahalnobis\n",
    "    \n",
    "    cv <- cov(df)\n",
    "\n",
    "    dist <- df[i,] - cork.m[j,]\n",
    "    mahal.Dist <- sqrt(t(dist)%*%solve(cv)%*%dist)\n",
    "    \n",
    "    \n",
    "    ## Standardize\n",
    "    \n",
    "    D <- diag(diag(cv))\n",
    "    sd.Dist <- sqrt(t(dist)%*%solve(D)%*%dist)\n",
    "    \n",
    "    myung <- list(uclid.dist, mahal.Dist, sd.Dist)\n",
    "    \n",
    "    names(myung) <- c(\"Uclid.Dist\", \"Mahal.Dist\", \"Sd.Dist\")\n",
    "    \n",
    "    return(myung)\n",
    "}"
   ]
  },
  {
   "cell_type": "code",
   "execution_count": 86,
   "metadata": {},
   "outputs": [
    {
     "data": {
      "text/html": [
       "<dl>\n",
       "\t<dt>$Uclid.Dist</dt>\n",
       "\t\t<dd>24.6779253585061</dd>\n",
       "\t<dt>$Mahal.Dist</dt>\n",
       "\t\t<dd><table>\n",
       "<tbody>\n",
       "\t<tr><td>1.487651</td></tr>\n",
       "</tbody>\n",
       "</table>\n",
       "</dd>\n",
       "\t<dt>$Sd.Dist</dt>\n",
       "\t\t<dd><table>\n",
       "<tbody>\n",
       "\t<tr><td>1.554746</td></tr>\n",
       "</tbody>\n",
       "</table>\n",
       "</dd>\n",
       "</dl>\n"
      ],
      "text/latex": [
       "\\begin{description}\n",
       "\\item[\\$Uclid.Dist] 24.6779253585061\n",
       "\\item[\\$Mahal.Dist] \\begin{tabular}{l}\n",
       "\t 1.487651\\\\\n",
       "\\end{tabular}\n",
       "\n",
       "\\item[\\$Sd.Dist] \\begin{tabular}{l}\n",
       "\t 1.554746\\\\\n",
       "\\end{tabular}\n",
       "\n",
       "\\end{description}\n"
      ],
      "text/markdown": [
       "$Uclid.Dist\n",
       ":   24.6779253585061\n",
       "$Mahal.Dist\n",
       ":   \n",
       "| 1.487651 | \n",
       "\n",
       "\n",
       "\n",
       "$Sd.Dist\n",
       ":   \n",
       "| 1.554746 | \n",
       "\n",
       "\n",
       "\n",
       "\n",
       "\n"
      ],
      "text/plain": [
       "$Uclid.Dist\n",
       "[1] 24.67793\n",
       "\n",
       "$Mahal.Dist\n",
       "         [,1]\n",
       "[1,] 1.487651\n",
       "\n",
       "$Sd.Dist\n",
       "         [,1]\n",
       "[1,] 1.554746\n"
      ]
     },
     "metadata": {},
     "output_type": "display_data"
    }
   ],
   "source": [
    "MultiDist(cork)"
   ]
  },
  {
   "cell_type": "code",
   "execution_count": null,
   "metadata": {},
   "outputs": [],
   "source": []
  }
 ],
 "metadata": {
  "kernelspec": {
   "display_name": "R",
   "language": "R",
   "name": "ir"
  },
  "language_info": {
   "codemirror_mode": "r",
   "file_extension": ".r",
   "mimetype": "text/x-r-source",
   "name": "R",
   "pygments_lexer": "r",
   "version": "3.5.1"
  }
 },
 "nbformat": 4,
 "nbformat_minor": 2
}
