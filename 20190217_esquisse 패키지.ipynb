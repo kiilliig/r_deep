{
 "cells": [
  {
   "cell_type": "markdown",
   "metadata": {},
   "source": [
    "## testType_A data 탐색"
   ]
  },
  {
   "cell_type": "code",
   "execution_count": 3,
   "metadata": {},
   "outputs": [
    {
     "data": {
      "text/html": [
       "<table>\n",
       "<thead><tr><th scope=col>monthCode</th><th scope=col>serviceId</th><th scope=col>userId</th><th scope=col>timeSpent</th><th scope=col>numberOfDays</th></tr></thead>\n",
       "<tbody>\n",
       "\t<tr><td>201112</td><td>13    </td><td>59749 </td><td> 136  </td><td> 3    </td></tr>\n",
       "\t<tr><td>201112</td><td>14    </td><td>15220 </td><td>  33  </td><td> 1    </td></tr>\n",
       "\t<tr><td>201112</td><td>14    </td><td>15471 </td><td> 812  </td><td>19    </td></tr>\n",
       "\t<tr><td>201112</td><td>14    </td><td>15583 </td><td>  38  </td><td> 1    </td></tr>\n",
       "\t<tr><td>201112</td><td>14    </td><td>15777 </td><td>   6  </td><td> 1    </td></tr>\n",
       "\t<tr><td>201112</td><td>14    </td><td>15792 </td><td>1336  </td><td>20    </td></tr>\n",
       "</tbody>\n",
       "</table>\n"
      ],
      "text/latex": [
       "\\begin{tabular}{r|lllll}\n",
       " monthCode & serviceId & userId & timeSpent & numberOfDays\\\\\n",
       "\\hline\n",
       "\t 201112 & 13     & 59749  &  136   &  3    \\\\\n",
       "\t 201112 & 14     & 15220  &   33   &  1    \\\\\n",
       "\t 201112 & 14     & 15471  &  812   & 19    \\\\\n",
       "\t 201112 & 14     & 15583  &   38   &  1    \\\\\n",
       "\t 201112 & 14     & 15777  &    6   &  1    \\\\\n",
       "\t 201112 & 14     & 15792  & 1336   & 20    \\\\\n",
       "\\end{tabular}\n"
      ],
      "text/markdown": [
       "\n",
       "monthCode | serviceId | userId | timeSpent | numberOfDays | \n",
       "|---|---|---|---|---|---|\n",
       "| 201112 | 13     | 59749  |  136   |  3     | \n",
       "| 201112 | 14     | 15220  |   33   |  1     | \n",
       "| 201112 | 14     | 15471  |  812   | 19     | \n",
       "| 201112 | 14     | 15583  |   38   |  1     | \n",
       "| 201112 | 14     | 15777  |    6   |  1     | \n",
       "| 201112 | 14     | 15792  | 1336   | 20     | \n",
       "\n",
       "\n"
      ],
      "text/plain": [
       "  monthCode serviceId userId timeSpent numberOfDays\n",
       "1 201112    13        59749   136       3          \n",
       "2 201112    14        15220    33       1          \n",
       "3 201112    14        15471   812      19          \n",
       "4 201112    14        15583    38       1          \n",
       "5 201112    14        15777     6       1          \n",
       "6 201112    14        15792  1336      20          "
      ]
     },
     "metadata": {},
     "output_type": "display_data"
    },
    {
     "data": {
      "text/html": [
       "708844"
      ],
      "text/latex": [
       "708844"
      ],
      "text/markdown": [
       "708844"
      ],
      "text/plain": [
       "[1] 708844"
      ]
     },
     "metadata": {},
     "output_type": "display_data"
    }
   ],
   "source": [
    "data = read.csv(\"C://Users//이명아//Desktop//testType_A.csv\")\n",
    "head(data)\n",
    "nrow(data)"
   ]
  },
  {
   "cell_type": "code",
   "execution_count": null,
   "metadata": {},
   "outputs": [],
   "source": [
    "#결측치 확인\n",
    "is.na(data)\n",
    "\n",
    "#outlier 확인\n",
    "a<-boxplot(data$serviceId)\n",
    "\n",
    "b<-boxplot(data$timeSpent)\n",
    "b$stats\n",
    "data$timeSpent <- ifelse(data$timeSpent > 1360, NA , data$timeSpent)\n",
    "table(is.na(data$timeSpent))\n",
    "\n",
    "c<-boxplot(data$numberOfDays)\n",
    "c$stats\n",
    "data$numberOfDays<-ifelse(data$numberOfDays > 18, NA , data$numberOfDays)\n",
    "table(is.na(data$numberOfDays))\n",
    "\n",
    "d<-boxplot(data$userId)"
   ]
  },
  {
   "cell_type": "code",
   "execution_count": null,
   "metadata": {},
   "outputs": [],
   "source": [
    "# outlier 제거\n",
    "library(dplyr)\n",
    "new_data <- data %>% filter(!is.na(timeSpent))\n",
    "new_data <- new_data %>% filter(!is.na(numberOfDays))\n",
    "nrow(new_data)   \n",
    "#data: 708844 -> 604127로 감소"
   ]
  },
  {
   "cell_type": "code",
   "execution_count": null,
   "metadata": {},
   "outputs": [],
   "source": [
    "# 1) 월별 서비스 이용 상황\n",
    "# -1) 월별 timespent 합\n",
    "ma1 <- tapply(new_data$timeSpent, new_data$monthCode, sum)\n",
    "ma1\n",
    "ma2$a<-factor(new_data$monthCode)\n",
    "\n",
    "a<-factor(new_data$monthCode)\n",
    "\n",
    "new_data$monthCode <- as.character(new_data$monthCode)\n",
    "new_data[,month:=substr(monthCode,1,4)]\n",
    "\n",
    "new_data2 <- new_data %>% mutate(month=substr(monthCode,5,6))\n",
    "\n",
    "windows()\n",
    "\n",
    "options(scipen = 999)\n",
    "\n",
    "new_data2 %>% group_by(serviceId) %>% summarise(sum=sum(timeSpent)) %>%\n",
    "  ggplot(aes(x=as.factor(serviceId),y=sum,group=1 ))+geom_line()\n",
    "library(ggplot2)\n",
    "\n",
    "windows()\n",
    "  \n",
    "serviceId <- as.factor(new_data$serviceId)\n",
    "windows()\n",
    "new_data2 %>% group_by(month,serviceId) %>% summarise(sum=sum(timeSpent)) %>%\n",
    "  ggplot(aes(x=month,y=sum,group=serviceId,colour=serviceId))+geom_line()\n",
    "\n",
    "ggplot(data = ma2) +\n",
    "  aes(x = as.factor('new_data$monthCode'), y = `sum(timeSpent)`,group=1) +\n",
    "  geom_line(color = \"#0c4c8a\") +\n",
    "  theme_minimal()\n",
    "\n",
    "# -2) 월별 numberOfDays 합\n",
    "\n",
    "ma3 <- tapply(new_data$numberOfDays , new_data$monthCode, sum)\n",
    "ma3\n",
    "\n",
    "ma4 <- as.data.frame(summarise(group_by(new_data, new_data$monthCode), sum(numberOfDays)))\n",
    "esquisse::esquisser(data = ma4)\n",
    "\n",
    "\n",
    "ggplot(data = ma4) +\n",
    "  aes(x = `new_data$monthCode`, y = `sum(numberOfDays)`) +\n",
    "  geom_line(color = \"#0c4c8a\") +\n",
    "  theme_minimal()\n",
    "\n",
    "# 2) servicedID \n",
    "# -1) serviceId 별 timespent 평균\n",
    "ma5 <- as.data.frame(summarise(group_by(new_data,  new_data$serviceId), mean= mean(timeSpent)))\n",
    "esquisse::esquisser(data = ma5)\n",
    "\n",
    "ggplot(data = ma5) +\n",
    "  aes(x = `new_data$serviceId`, y = mean) +\n",
    "  geom_line(color = \"#0c4c8a\") +\n",
    "  theme_minimal()\n",
    "\n",
    "# -2) serviceId 별 numberOfDays 평균\n",
    "ma6 <- as.data.frame(summarise(group_by(new_data,  new_data$serviceId), mean= mean(numberOfDays)))\n",
    "windows()\n",
    "esquisse::esquisser(data = ma6)\n",
    "\n",
    "\n",
    "ggplot(data = ma6) +\n",
    "  aes(x = `new_data$serviceId`, y = mean) +\n",
    "  geom_line(color = \"#0c4c8a\") +\n",
    "  theme_minimal()\n",
    "head(new_data)\n",
    "\n",
    "# -4) monthCode별 servicId 별 timespent 합\n",
    "\n",
    "k <-as.data.frame(summarise(group_by(new_data, new_data$monthCode, new_data$serviceId), sum(timeSpent)))\n",
    "esquisse::esquisser(data = k)"
   ]
  },
  {
   "cell_type": "markdown",
   "metadata": {},
   "source": [
    "### xgboost format"
   ]
  },
  {
   "cell_type": "code",
   "execution_count": null,
   "metadata": {},
   "outputs": [],
   "source": [
    "set.seed(1234)\n",
    "train_idx <- sample(nrow(new_data), floor(0.7*nrow(new_data)), replace =F)\n",
    "train_X <- new_data[train_idx, 4:5]\n",
    "train_y <- new_data[train_idx, 2]\n",
    "test_X <- new_data[-train_idx, 4:5]\n",
    "test_y <- new_data[-train_idx, 2]\n",
    "\n",
    "library(xgboost)\n",
    "\n",
    "dtrain <- xgb.DMatrix(data = data.matrix(train_X ) , label = train_y)\n",
    "dtest <- xgb.DMatrix(data = data.matrix(test_X ) , label = test_y)\n",
    "\n",
    "params <- list(booster = 'gbtree' , objective = 'multi:softmax',\n",
    "               eval.metric = 'logloss', eta = 0.01, gamma = 0.04,\n",
    "               max_depth = 6, scale_pos_weight = 1.0506,\n",
    "               min_child_weight = 1, subsample = 0.732,\n",
    "               colsample_bytree = 0.4698)\n",
    "\n",
    "xgb_model <- xgb.train(params = params ,\n",
    "                       data = dtrain,\n",
    "                       nrounds = 7000,\n",
    "                       watchlist = list(train = dtrain, eval = dtest),\n",
    "                       print_every_n = 10,\n",
    "                       early_stopping_rounds = 100,\n",
    "                       maximize = F)"
   ]
  }
 ],
 "metadata": {
  "kernelspec": {
   "display_name": "R",
   "language": "R",
   "name": "ir"
  },
  "language_info": {
   "codemirror_mode": "r",
   "file_extension": ".r",
   "mimetype": "text/x-r-source",
   "name": "R",
   "pygments_lexer": "r",
   "version": "3.5.1"
  }
 },
 "nbformat": 4,
 "nbformat_minor": 2
}
